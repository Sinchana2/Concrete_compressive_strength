{
 "cells": [
  {
   "cell_type": "markdown",
   "id": "4cddda15",
   "metadata": {},
   "source": [
    "# Concrete compressive strength"
   ]
  },
  {
   "cell_type": "code",
   "execution_count": 9,
   "id": "1fe9ceb4",
   "metadata": {},
   "outputs": [],
   "source": [
    "import pandas as pd\n",
    "import numpy as np\n",
    "import seaborn as sns\n",
    "import matplotlib.pyplot as plt\n",
    "import warnings \n",
    "warnings.filterwarnings('ignore')\n",
    "from sklearn.linear_model import LinearRegression\n",
    "from sklearn.metrics import mean_absolute_error,mean_squared_error\n",
    "from sklearn.metrics import r2_score"
   ]
  },
  {
   "cell_type": "code",
   "execution_count": 10,
   "id": "edc2c576",
   "metadata": {},
   "outputs": [],
   "source": [
    "df=pd.read_csv('C:/Users/HP/anaconda3/DataScience/DataScienceProjects/Concrete mixture/Concrete_Data.csv')"
   ]
  },
  {
   "cell_type": "code",
   "execution_count": 11,
   "id": "64d43c6a",
   "metadata": {},
   "outputs": [],
   "source": [
    "df=pd.DataFrame(data=df)"
   ]
  },
  {
   "cell_type": "code",
   "execution_count": 12,
   "id": "7e1396a4",
   "metadata": {},
   "outputs": [
    {
     "data": {
      "text/html": [
       "<div>\n",
       "<style scoped>\n",
       "    .dataframe tbody tr th:only-of-type {\n",
       "        vertical-align: middle;\n",
       "    }\n",
       "\n",
       "    .dataframe tbody tr th {\n",
       "        vertical-align: top;\n",
       "    }\n",
       "\n",
       "    .dataframe thead th {\n",
       "        text-align: right;\n",
       "    }\n",
       "</style>\n",
       "<table border=\"1\" class=\"dataframe\">\n",
       "  <thead>\n",
       "    <tr style=\"text-align: right;\">\n",
       "      <th></th>\n",
       "      <th>Cement</th>\n",
       "      <th>Blast Furnace Slag</th>\n",
       "      <th>Fly Ash</th>\n",
       "      <th>Water</th>\n",
       "      <th>Superplasticizer</th>\n",
       "      <th>Coarse Aggregate</th>\n",
       "      <th>Fine Aggregate</th>\n",
       "      <th>Age</th>\n",
       "      <th>Concrete compressive strength</th>\n",
       "    </tr>\n",
       "  </thead>\n",
       "  <tbody>\n",
       "    <tr>\n",
       "      <th>0</th>\n",
       "      <td>540.0</td>\n",
       "      <td>0.0</td>\n",
       "      <td>0.0</td>\n",
       "      <td>162.0</td>\n",
       "      <td>2.5</td>\n",
       "      <td>1040.0</td>\n",
       "      <td>676.0</td>\n",
       "      <td>28</td>\n",
       "      <td>79.99</td>\n",
       "    </tr>\n",
       "    <tr>\n",
       "      <th>1</th>\n",
       "      <td>540.0</td>\n",
       "      <td>0.0</td>\n",
       "      <td>0.0</td>\n",
       "      <td>162.0</td>\n",
       "      <td>2.5</td>\n",
       "      <td>1055.0</td>\n",
       "      <td>676.0</td>\n",
       "      <td>28</td>\n",
       "      <td>61.89</td>\n",
       "    </tr>\n",
       "    <tr>\n",
       "      <th>2</th>\n",
       "      <td>332.5</td>\n",
       "      <td>142.5</td>\n",
       "      <td>0.0</td>\n",
       "      <td>228.0</td>\n",
       "      <td>0.0</td>\n",
       "      <td>932.0</td>\n",
       "      <td>594.0</td>\n",
       "      <td>270</td>\n",
       "      <td>40.27</td>\n",
       "    </tr>\n",
       "    <tr>\n",
       "      <th>3</th>\n",
       "      <td>332.5</td>\n",
       "      <td>142.5</td>\n",
       "      <td>0.0</td>\n",
       "      <td>228.0</td>\n",
       "      <td>0.0</td>\n",
       "      <td>932.0</td>\n",
       "      <td>594.0</td>\n",
       "      <td>365</td>\n",
       "      <td>41.05</td>\n",
       "    </tr>\n",
       "    <tr>\n",
       "      <th>4</th>\n",
       "      <td>198.6</td>\n",
       "      <td>132.4</td>\n",
       "      <td>0.0</td>\n",
       "      <td>192.0</td>\n",
       "      <td>0.0</td>\n",
       "      <td>978.4</td>\n",
       "      <td>825.5</td>\n",
       "      <td>360</td>\n",
       "      <td>44.30</td>\n",
       "    </tr>\n",
       "  </tbody>\n",
       "</table>\n",
       "</div>"
      ],
      "text/plain": [
       "   Cement  Blast Furnace Slag  Fly Ash  Water  Superplasticizer  \\\n",
       "0   540.0                 0.0      0.0  162.0               2.5   \n",
       "1   540.0                 0.0      0.0  162.0               2.5   \n",
       "2   332.5               142.5      0.0  228.0               0.0   \n",
       "3   332.5               142.5      0.0  228.0               0.0   \n",
       "4   198.6               132.4      0.0  192.0               0.0   \n",
       "\n",
       "   Coarse Aggregate  Fine Aggregate  Age  Concrete compressive strength   \n",
       "0            1040.0           676.0   28                           79.99  \n",
       "1            1055.0           676.0   28                           61.89  \n",
       "2             932.0           594.0  270                           40.27  \n",
       "3             932.0           594.0  365                           41.05  \n",
       "4             978.4           825.5  360                           44.30  "
      ]
     },
     "execution_count": 12,
     "metadata": {},
     "output_type": "execute_result"
    }
   ],
   "source": [
    "df.head()"
   ]
  },
  {
   "cell_type": "code",
   "execution_count": 13,
   "id": "3c2e55a2",
   "metadata": {},
   "outputs": [
    {
     "data": {
      "text/plain": [
       "Cement                            float64\n",
       "Blast Furnace Slag                float64\n",
       "Fly Ash                           float64\n",
       "Water                             float64\n",
       "Superplasticizer                  float64\n",
       "Coarse Aggregate                  float64\n",
       "Fine Aggregate                    float64\n",
       "Age                                 int64\n",
       "Concrete compressive strength     float64\n",
       "dtype: object"
      ]
     },
     "execution_count": 13,
     "metadata": {},
     "output_type": "execute_result"
    }
   ],
   "source": [
    "df.dtypes"
   ]
  },
  {
   "cell_type": "code",
   "execution_count": 14,
   "id": "146abbb1",
   "metadata": {},
   "outputs": [
    {
     "data": {
      "text/html": [
       "<div>\n",
       "<style scoped>\n",
       "    .dataframe tbody tr th:only-of-type {\n",
       "        vertical-align: middle;\n",
       "    }\n",
       "\n",
       "    .dataframe tbody tr th {\n",
       "        vertical-align: top;\n",
       "    }\n",
       "\n",
       "    .dataframe thead th {\n",
       "        text-align: right;\n",
       "    }\n",
       "</style>\n",
       "<table border=\"1\" class=\"dataframe\">\n",
       "  <thead>\n",
       "    <tr style=\"text-align: right;\">\n",
       "      <th></th>\n",
       "      <th>Cement</th>\n",
       "      <th>Blast Furnace Slag</th>\n",
       "      <th>Fly Ash</th>\n",
       "      <th>Water</th>\n",
       "      <th>Superplasticizer</th>\n",
       "      <th>Coarse Aggregate</th>\n",
       "      <th>Fine Aggregate</th>\n",
       "      <th>Age</th>\n",
       "      <th>Concrete compressive strength</th>\n",
       "    </tr>\n",
       "  </thead>\n",
       "  <tbody>\n",
       "    <tr>\n",
       "      <th>count</th>\n",
       "      <td>1030.000000</td>\n",
       "      <td>1030.000000</td>\n",
       "      <td>1030.000000</td>\n",
       "      <td>1030.000000</td>\n",
       "      <td>1030.000000</td>\n",
       "      <td>1030.000000</td>\n",
       "      <td>1030.000000</td>\n",
       "      <td>1030.000000</td>\n",
       "      <td>1030.000000</td>\n",
       "    </tr>\n",
       "    <tr>\n",
       "      <th>mean</th>\n",
       "      <td>281.167864</td>\n",
       "      <td>73.895825</td>\n",
       "      <td>54.188350</td>\n",
       "      <td>181.567282</td>\n",
       "      <td>6.204660</td>\n",
       "      <td>972.918932</td>\n",
       "      <td>773.580485</td>\n",
       "      <td>45.662136</td>\n",
       "      <td>35.817961</td>\n",
       "    </tr>\n",
       "    <tr>\n",
       "      <th>std</th>\n",
       "      <td>104.506364</td>\n",
       "      <td>86.279342</td>\n",
       "      <td>63.997004</td>\n",
       "      <td>21.354219</td>\n",
       "      <td>5.973841</td>\n",
       "      <td>77.753954</td>\n",
       "      <td>80.175980</td>\n",
       "      <td>63.169912</td>\n",
       "      <td>16.705742</td>\n",
       "    </tr>\n",
       "    <tr>\n",
       "      <th>min</th>\n",
       "      <td>102.000000</td>\n",
       "      <td>0.000000</td>\n",
       "      <td>0.000000</td>\n",
       "      <td>121.800000</td>\n",
       "      <td>0.000000</td>\n",
       "      <td>801.000000</td>\n",
       "      <td>594.000000</td>\n",
       "      <td>1.000000</td>\n",
       "      <td>2.330000</td>\n",
       "    </tr>\n",
       "    <tr>\n",
       "      <th>25%</th>\n",
       "      <td>192.375000</td>\n",
       "      <td>0.000000</td>\n",
       "      <td>0.000000</td>\n",
       "      <td>164.900000</td>\n",
       "      <td>0.000000</td>\n",
       "      <td>932.000000</td>\n",
       "      <td>730.950000</td>\n",
       "      <td>7.000000</td>\n",
       "      <td>23.710000</td>\n",
       "    </tr>\n",
       "    <tr>\n",
       "      <th>50%</th>\n",
       "      <td>272.900000</td>\n",
       "      <td>22.000000</td>\n",
       "      <td>0.000000</td>\n",
       "      <td>185.000000</td>\n",
       "      <td>6.400000</td>\n",
       "      <td>968.000000</td>\n",
       "      <td>779.500000</td>\n",
       "      <td>28.000000</td>\n",
       "      <td>34.445000</td>\n",
       "    </tr>\n",
       "    <tr>\n",
       "      <th>75%</th>\n",
       "      <td>350.000000</td>\n",
       "      <td>142.950000</td>\n",
       "      <td>118.300000</td>\n",
       "      <td>192.000000</td>\n",
       "      <td>10.200000</td>\n",
       "      <td>1029.400000</td>\n",
       "      <td>824.000000</td>\n",
       "      <td>56.000000</td>\n",
       "      <td>46.135000</td>\n",
       "    </tr>\n",
       "    <tr>\n",
       "      <th>max</th>\n",
       "      <td>540.000000</td>\n",
       "      <td>359.400000</td>\n",
       "      <td>200.100000</td>\n",
       "      <td>247.000000</td>\n",
       "      <td>32.200000</td>\n",
       "      <td>1145.000000</td>\n",
       "      <td>992.600000</td>\n",
       "      <td>365.000000</td>\n",
       "      <td>82.600000</td>\n",
       "    </tr>\n",
       "  </tbody>\n",
       "</table>\n",
       "</div>"
      ],
      "text/plain": [
       "            Cement  Blast Furnace Slag      Fly Ash        Water  \\\n",
       "count  1030.000000         1030.000000  1030.000000  1030.000000   \n",
       "mean    281.167864           73.895825    54.188350   181.567282   \n",
       "std     104.506364           86.279342    63.997004    21.354219   \n",
       "min     102.000000            0.000000     0.000000   121.800000   \n",
       "25%     192.375000            0.000000     0.000000   164.900000   \n",
       "50%     272.900000           22.000000     0.000000   185.000000   \n",
       "75%     350.000000          142.950000   118.300000   192.000000   \n",
       "max     540.000000          359.400000   200.100000   247.000000   \n",
       "\n",
       "       Superplasticizer  Coarse Aggregate  Fine Aggregate          Age  \\\n",
       "count       1030.000000       1030.000000     1030.000000  1030.000000   \n",
       "mean           6.204660        972.918932      773.580485    45.662136   \n",
       "std            5.973841         77.753954       80.175980    63.169912   \n",
       "min            0.000000        801.000000      594.000000     1.000000   \n",
       "25%            0.000000        932.000000      730.950000     7.000000   \n",
       "50%            6.400000        968.000000      779.500000    28.000000   \n",
       "75%           10.200000       1029.400000      824.000000    56.000000   \n",
       "max           32.200000       1145.000000      992.600000   365.000000   \n",
       "\n",
       "       Concrete compressive strength   \n",
       "count                     1030.000000  \n",
       "mean                        35.817961  \n",
       "std                         16.705742  \n",
       "min                          2.330000  \n",
       "25%                         23.710000  \n",
       "50%                         34.445000  \n",
       "75%                         46.135000  \n",
       "max                         82.600000  "
      ]
     },
     "execution_count": 14,
     "metadata": {},
     "output_type": "execute_result"
    }
   ],
   "source": [
    "df.describe()"
   ]
  },
  {
   "cell_type": "code",
   "execution_count": 15,
   "id": "f444b124",
   "metadata": {},
   "outputs": [
    {
     "data": {
      "text/plain": [
       "Cement                            0\n",
       "Blast Furnace Slag                0\n",
       "Fly Ash                           0\n",
       "Water                             0\n",
       "Superplasticizer                  0\n",
       "Coarse Aggregate                  0\n",
       "Fine Aggregate                    0\n",
       "Age                               0\n",
       "Concrete compressive strength     0\n",
       "dtype: int64"
      ]
     },
     "execution_count": 15,
     "metadata": {},
     "output_type": "execute_result"
    }
   ],
   "source": [
    "df.isnull().sum()"
   ]
  },
  {
   "cell_type": "code",
   "execution_count": 16,
   "id": "dd2b11c4",
   "metadata": {},
   "outputs": [
    {
     "data": {
      "text/plain": [
       "Cement                            0.509481\n",
       "Blast Furnace Slag                0.800717\n",
       "Fly Ash                           0.537354\n",
       "Water                             0.074628\n",
       "Superplasticizer                  0.907203\n",
       "Coarse Aggregate                 -0.040220\n",
       "Fine Aggregate                   -0.253010\n",
       "Age                               3.269177\n",
       "Concrete compressive strength     0.416977\n",
       "dtype: float64"
      ]
     },
     "execution_count": 16,
     "metadata": {},
     "output_type": "execute_result"
    }
   ],
   "source": [
    "df.skew()"
   ]
  },
  {
   "cell_type": "code",
   "execution_count": 17,
   "id": "3757c836",
   "metadata": {},
   "outputs": [
    {
     "data": {
      "text/plain": [
       "<AxesSubplot:ylabel='Frequency'>"
      ]
     },
     "execution_count": 17,
     "metadata": {},
     "output_type": "execute_result"
    },
    {
     "data": {
      "image/png": "[encoded data removed]",
      "text/plain": [
       "<Figure size 432x288 with 1 Axes>"
      ]
     },
     "metadata": {
      "needs_background": "light"
     },
     "output_type": "display_data"
    }
   ],
   "source": [
    "df['Age'].plot.hist()"
   ]
  },
  {
   "cell_type": "code",
   "execution_count": 18,
   "id": "2207db6e",
   "metadata": {},
   "outputs": [],
   "source": [
    "from scipy.stats import boxcox\n",
    "df['Age']=boxcox(df['Age'],0)"
   ]
  },
  {
   "cell_type": "code",
   "execution_count": 19,
   "id": "e6430744",
   "metadata": {},
   "outputs": [
    {
     "data": {
      "text/plain": [
       "<AxesSubplot:ylabel='Frequency'>"
      ]
     },
     "execution_count": 19,
     "metadata": {},
     "output_type": "execute_result"
    },
    {
     "data": {
      "image/png": "[encoded data removed]",
      "text/plain": [
       "<Figure size 432x288 with 1 Axes>"
      ]
     },
     "metadata": {
      "needs_background": "light"
     },
     "output_type": "display_data"
    }
   ],
   "source": [
    "df['Age'].plot.hist()"
   ]
  },
  {
   "cell_type": "code",
   "execution_count": 20,
   "id": "dd0481f7",
   "metadata": {},
   "outputs": [
    {
     "data": {
      "text/plain": [
       "Index(['Cement', 'Blast Furnace Slag', 'Fly Ash', 'Water', 'Superplasticizer',\n",
       "       'Coarse Aggregate', 'Fine Aggregate', 'Age',\n",
       "       'Concrete compressive strength '],\n",
       "      dtype='object')"
      ]
     },
     "execution_count": 20,
     "metadata": {},
     "output_type": "execute_result"
    }
   ],
   "source": [
    "df.columns"
   ]
  },
  {
   "cell_type": "code",
   "execution_count": 21,
   "id": "a56ed7aa",
   "metadata": {},
   "outputs": [
    {
     "data": {
      "text/plain": [
       "array([[<AxesSubplot:title={'center':'Cement'}>,\n",
       "        <AxesSubplot:title={'center':'Blast Furnace Slag'}>,\n",
       "        <AxesSubplot:title={'center':'Fly Ash'}>],\n",
       "       [<AxesSubplot:title={'center':'Water'}>,\n",
       "        <AxesSubplot:title={'center':'Superplasticizer'}>,\n",
       "        <AxesSubplot:title={'center':'Coarse Aggregate'}>],\n",
       "       [<AxesSubplot:title={'center':'Fine Aggregate'}>,\n",
       "        <AxesSubplot:title={'center':'Age'}>,\n",
       "        <AxesSubplot:title={'center':'Concrete compressive strength '}>]],\n",
       "      dtype=object)"
      ]
     },
     "execution_count": 21,
     "metadata": {},
     "output_type": "execute_result"
    },
    {
     "data": {
      "image/png": "[encoded data removed]",
      "text/plain": [
       "<Figure size 720x720 with 9 Axes>"
      ]
     },
     "metadata": {
      "needs_background": "light"
     },
     "output_type": "display_data"
    }
   ],
   "source": [
    "df.hist(bins=30, figsize=(10,10))"
   ]
  },
  {
   "cell_type": "code",
   "execution_count": 22,
   "id": "5c52e7bd",
   "metadata": {},
   "outputs": [
    {
     "data": {
      "text/plain": [
       "<AxesSubplot:xlabel='Age', ylabel='Density'>"
      ]
     },
     "execution_count": 22,
     "metadata": {},
     "output_type": "execute_result"
    },
    {
     "data": {
      "image/png": "[encoded data removed]",
      "text/plain": [
       "<Figure size 432x288 with 1 Axes>"
      ]
     },
     "metadata": {
      "needs_background": "light"
     },
     "output_type": "display_data"
    }
   ],
   "source": [
    "sns.distplot(df['Age'])"
   ]
  },
  {
   "cell_type": "code",
   "execution_count": 41,
   "id": "9640b8a5",
   "metadata": {},
   "outputs": [
    {
     "data": {
      "image/png": "[encoded data removed]",
      "text/plain": [
       "<Figure size 432x288 with 2 Axes>"
      ]
     },
     "metadata": {
      "needs_background": "light"
     },
     "output_type": "display_data"
    }
   ],
   "source": [
    "corr_hmap= df.corr()\n",
    "sns.heatmap(corr_hmap,annot=True)\n",
    "plt.title(\"Heatmap of concrete mixture\")\n",
    "plt.show()"
   ]
  },
  {
   "cell_type": "code",
   "execution_count": 43,
   "id": "b7e5ac27",
   "metadata": {},
   "outputs": [],
   "source": [
    "df_new=df[(z<3).all(axis=1)]"
   ]
  },
  {
   "cell_type": "code",
   "execution_count": 44,
   "id": "7476e4aa",
   "metadata": {},
   "outputs": [
    {
     "data": {
      "image/png": "[encoded data removed]",
      "text/plain": [
       "<Figure size 432x288 with 1 Axes>"
      ]
     },
     "metadata": {
      "needs_background": "light"
     },
     "output_type": "display_data"
    }
   ],
   "source": [
    "def distplot(df_new,var):\n",
    "    for var in df.columns:\n",
    "        sns.distplot(df_new[var])\n",
    "distplot(df_new,df_new.columns)"
   ]
  },
  {
   "cell_type": "code",
   "execution_count": 45,
   "id": "b0f8e408",
   "metadata": {},
   "outputs": [
    {
     "data": {
      "text/plain": [
       "Cement                               AxesSubplot(0.125,0.125;0.0731132x0.755)\n",
       "Blast Furnace Slag                AxesSubplot(0.212736,0.125;0.0731132x0.755)\n",
       "Fly Ash                           AxesSubplot(0.300472,0.125;0.0731132x0.755)\n",
       "Water                             AxesSubplot(0.388208,0.125;0.0731132x0.755)\n",
       "Superplasticizer                  AxesSubplot(0.475943,0.125;0.0731132x0.755)\n",
       "Coarse Aggregate                  AxesSubplot(0.563679,0.125;0.0731132x0.755)\n",
       "Fine Aggregate                    AxesSubplot(0.651415,0.125;0.0731132x0.755)\n",
       "Age                               AxesSubplot(0.739151,0.125;0.0731132x0.755)\n",
       "Concrete compressive strength     AxesSubplot(0.826887,0.125;0.0731132x0.755)\n",
       "dtype: object"
      ]
     },
     "execution_count": 45,
     "metadata": {},
     "output_type": "execute_result"
    },
    {
     "data": {
      "image/png": "[encoded data removed]",
      "text/plain": [
       "<Figure size 432x288 with 9 Axes>"
      ]
     },
     "metadata": {
      "needs_background": "light"
     },
     "output_type": "display_data"
    }
   ],
   "source": [
    "df_new.plot(kind='box',subplots=True)"
   ]
  },
  {
   "cell_type": "code",
   "execution_count": 47,
   "id": "274aa109",
   "metadata": {},
   "outputs": [],
   "source": [
    "#removing outliers\n",
    "from scipy.stats import zscore\n",
    "z=np.abs(zscore(df_new))"
   ]
  },
  {
   "cell_type": "code",
   "execution_count": 48,
   "id": "2ce1ba44",
   "metadata": {},
   "outputs": [
    {
     "data": {
      "text/plain": [
       "array([[2.53419514, 0.85853621, 0.85591851, ..., 1.2177008 , 0.13701226,\n",
       "        2.66207804],\n",
       "       [2.53419514, 0.85853621, 0.85591851, ..., 1.2177008 , 0.13701226,\n",
       "        1.57551243],\n",
       "       [0.51727958, 0.81923211, 0.85591851, ..., 2.24472396, 2.03807384,\n",
       "        0.27763683],\n",
       "       ...,\n",
       "       [1.27121422, 0.78273329, 0.83712171, ..., 0.08486516, 0.13701226,\n",
       "        0.71708097],\n",
       "       [1.16818143, 1.33963464, 0.85591851, ..., 0.19633474, 0.13701226,\n",
       "        0.17259754],\n",
       "       [0.17867779, 0.32473198, 0.36475414, ..., 0.14684129, 0.13701226,\n",
       "        0.1948091 ]])"
      ]
     },
     "execution_count": 48,
     "metadata": {},
     "output_type": "execute_result"
    }
   ],
   "source": [
    "z"
   ]
  },
  {
   "cell_type": "code",
   "execution_count": 49,
   "id": "f40e9b35",
   "metadata": {},
   "outputs": [
    {
     "name": "stdout",
     "output_type": "stream",
     "text": [
      "(array([ 74,  95, 116, 137, 158], dtype=int64), array([4, 4, 4, 4, 4], dtype=int64))\n"
     ]
    }
   ],
   "source": [
    "threshold=3\n",
    "print(np.where(z>3))"
   ]
  },
  {
   "cell_type": "code",
   "execution_count": 50,
   "id": "715fe8ad",
   "metadata": {},
   "outputs": [
    {
     "data": {
      "text/plain": [
       "3.1623052558660825"
      ]
     },
     "execution_count": 50,
     "metadata": {},
     "output_type": "execute_result"
    }
   ],
   "source": [
    "z[74][4]"
   ]
  },
  {
   "cell_type": "code",
   "execution_count": 51,
   "id": "36a29db9",
   "metadata": {},
   "outputs": [],
   "source": [
    "x=df_new.iloc[:,0:-1]\n",
    "y=df_new.iloc[:,-1]"
   ]
  },
  {
   "cell_type": "code",
   "execution_count": 52,
   "id": "b7b5c209",
   "metadata": {},
   "outputs": [],
   "source": [
    "from sklearn.model_selection import train_test_split\n",
    "x_train,x_test,y_train,y_test= train_test_split(x,y,test_size=0.3,random_state=42)"
   ]
  },
  {
   "cell_type": "code",
   "execution_count": 53,
   "id": "12427452",
   "metadata": {},
   "outputs": [],
   "source": [
    "lm=LinearRegression()"
   ]
  },
  {
   "cell_type": "code",
   "execution_count": 54,
   "id": "cb9b6854",
   "metadata": {},
   "outputs": [
    {
     "data": {
      "text/plain": [
       "LinearRegression()"
      ]
     },
     "execution_count": 54,
     "metadata": {},
     "output_type": "execute_result"
    }
   ],
   "source": [
    "lm.fit(x_train,y_train)"
   ]
  },
  {
   "cell_type": "code",
   "execution_count": 55,
   "id": "6adccc97",
   "metadata": {},
   "outputs": [
    {
     "data": {
      "text/plain": [
       "0.8351992957671456"
      ]
     },
     "execution_count": 55,
     "metadata": {},
     "output_type": "execute_result"
    }
   ],
   "source": [
    "lm.score(x_train,y_train)"
   ]
  },
  {
   "cell_type": "code",
   "execution_count": 56,
   "id": "11f98ac4",
   "metadata": {},
   "outputs": [
    {
     "data": {
      "text/plain": [
       "array([ 0.14129467,  0.12476042,  0.09393302, -0.1081085 ,  0.20028125,\n",
       "        0.03530508,  0.04487939,  8.73068806])"
      ]
     },
     "execution_count": 56,
     "metadata": {},
     "output_type": "execute_result"
    }
   ],
   "source": [
    "lm.coef_"
   ]
  },
  {
   "cell_type": "code",
   "execution_count": 57,
   "id": "3e1bb829",
   "metadata": {},
   "outputs": [
    {
     "data": {
      "text/plain": [
       "-96.43418952640621"
      ]
     },
     "execution_count": 57,
     "metadata": {},
     "output_type": "execute_result"
    }
   ],
   "source": [
    "lm.intercept_"
   ]
  },
  {
   "cell_type": "code",
   "execution_count": 60,
   "id": "5e7e3bb5",
   "metadata": {},
   "outputs": [],
   "source": [
    "pred=lm.predict(x_test)"
   ]
  },
  {
   "cell_type": "code",
   "execution_count": 61,
   "id": "d9383949",
   "metadata": {},
   "outputs": [
    {
     "name": "stdout",
     "output_type": "stream",
     "text": [
      "Predicted compressive strength is:  [29.24454635 59.78982535 19.61939063 35.98215166 25.90121877 13.05339138\n",
      " 49.01599292  6.94214    31.34463378 38.67988571 29.11831772 36.26963975\n",
      " 29.51851512 17.68857383 67.67787665  9.76839487 49.70672209 31.07718065\n",
      " 18.99381145 34.88981029 35.29619816 68.62812065 32.90970962 32.05358636\n",
      " 31.58063446 20.44811611 13.47923808 36.78490867 43.43076905 43.49113283\n",
      " 32.52407722 68.49489374 32.33104052 14.63014215 25.10300896  4.2394287\n",
      " 38.59128417 17.8783203   7.30311388 35.8069944  30.85566268 40.71023975\n",
      " 35.32506351 18.92432129 33.1404474  39.89618435 33.51815966 49.85220745\n",
      " 38.26524266 39.64118465 38.81299517 36.85788957 32.40384709 47.15854774\n",
      " 52.85047318 19.82072589 44.89115036 41.16227617 45.83613389 26.17800402\n",
      " 19.37419578 43.07567189 53.44842008 18.82528134 47.17423321 30.04638415\n",
      " 35.32084362 13.40891268 29.22727446 28.84951329 32.79568778 20.6879142\n",
      " 73.26753493 36.01898792 26.05040922 24.43682433 21.75704345 32.79121782\n",
      " 27.01877666 54.9325722  41.63486991 10.79561618 47.00593542 46.2600304\n",
      " 50.11978656 25.95416458 36.01352701 53.22588502 25.23777883 20.22773689\n",
      " 41.8976362  21.85520738 29.64400761 47.1368355  44.91819659 10.14321067\n",
      " 41.80628847 22.328126   38.68032623 38.29017133 13.26768577 13.29042088\n",
      " 32.53562622 44.73153752 47.73367314 41.31914224 32.41870839 42.82466534\n",
      " 23.28643389 49.98191746 31.99216722 19.25361217  6.1702455  55.13116645\n",
      " 35.38973752  9.89440845 34.20366754 43.41102033 40.20837859 14.91547303\n",
      " 23.56887444 29.74725522 31.33130713 37.98308328 38.59681971 43.7980685\n",
      " 35.16817032 39.73934219 42.98521425 40.50568691 31.15466077 40.66918499\n",
      " 36.59315938 14.84966763 15.99329208 34.15672678 27.6846174  56.99445398\n",
      " 14.49018264 56.27422182 23.2397977  29.07722542  9.65373983 42.23245919\n",
      " 41.45015504 15.9679426  62.57646883 34.2159094  44.46064894 43.07567189\n",
      " 44.0957903  12.0977099  41.33658063 20.14038771 33.90416324 19.60033614\n",
      " 50.75505087 10.57051626 41.85864622 17.108156   39.92579013 66.60265074\n",
      " 38.82013453 43.63312331 40.88078545 50.59611282 38.62011777 31.32746542\n",
      " 43.20404626 53.73817354 30.24184101 36.29349282 39.97591717 61.56597577\n",
      " 36.12141855 46.0375257  39.12577294 24.29890374 55.04215178 51.5206267\n",
      " -0.50698549 49.73398399 45.45593277 45.81417075 47.1368355  25.26090023\n",
      " 23.3868078  48.696463   24.33639146 37.28477807 35.38568551 22.36568628\n",
      " 38.41091605 24.9740166  28.48588928 18.86497611 37.01236377 69.02871764\n",
      " 57.87705902 54.39992592 40.68247257 28.8307143   9.60272903 38.28595606\n",
      " 44.67176958  9.18060338 48.51015182 36.22074952 38.80097809  8.99112005\n",
      " 40.18259091 43.07567189 22.58386691 40.20904665 17.1154983  33.95851101\n",
      " 20.42499319 53.09406095 69.53060823 62.47551145 37.91777705 36.09363951\n",
      " 43.8323476  68.62812065 25.54685502 44.92280143 16.57809669 35.89542979\n",
      " 34.27559512 31.59850684 55.05367707 51.61955314 32.00833067 35.5652981\n",
      " 50.50120048 45.24375102 35.02614185 21.01311357 45.38057659 52.11667815\n",
      " 34.43142963 55.09728107 23.23359355 40.11885581 31.81951492 38.67782407\n",
      " 54.01167071 16.38258565 54.47280817 45.20783255 26.63323367 24.55161647\n",
      " 36.03736915 43.79970068 54.74876577 10.72191746 36.24440565 41.62181875\n",
      " 21.00488997 37.16017992 39.73934219 19.44043318 39.26734663 34.13093909\n",
      " 48.68921779 46.17062321 44.73857577 65.15881227 51.8610403  19.69130227\n",
      " 32.98410373 33.55196913 42.95037344 50.47316521 47.33461575 36.46079142\n",
      " 40.12723064 30.38804328 42.17307036 38.79185003 19.88653731 31.45751398\n",
      " 26.82922862 62.57646883 47.15990071 26.92838321 47.23528477 36.34806494\n",
      " 34.68717054 28.01190672  6.99565036 39.73934219 28.24553809 36.77342488\n",
      " 21.52736364 10.74608674 35.27601168 25.67104244 55.32044986 34.65376895\n",
      " 20.50186466 38.04560465 36.7118744   8.98509234 26.49976793]\n",
      "Actual compressive strength is:  766     27.92\n",
      "529     68.75\n",
      "220     25.48\n",
      "625     32.92\n",
      "929     21.91\n",
      "        ...  \n",
      "1019    35.23\n",
      "237     47.13\n",
      "883     32.96\n",
      "598     13.22\n",
      "822     25.18\n",
      "Name: Concrete compressive strength , Length: 305, dtype: float64\n"
     ]
    }
   ],
   "source": [
    "print(\"Predicted compressive strength is: \",pred)\n",
    "print(\"Actual compressive strength is: \",y_test)"
   ]
  },
  {
   "cell_type": "markdown",
   "id": "6b9fc5cf",
   "metadata": {},
   "source": [
    "Higher the compressive strength,higher is the strength of building anything. \n",
    "And the quantity of the materials used in case of higher compressive strength will get you better infrastructure"
   ]
  },
  {
   "cell_type": "code",
   "execution_count": null,
   "id": "db0b4acc",
   "metadata": {},
   "outputs": [],
   "source": []
  }
 ],
 "metadata": {
  "kernelspec": {
   "display_name": "Python 3",
   "language": "python",
   "name": "python3"
  },
  "language_info": {
   "codemirror_mode": {
    "name": "ipython",
    "version": 3
   },
   "file_extension": ".py",
   "mimetype": "text/x-python",
   "name": "python",
   "nbconvert_exporter": "python",
   "pygments_lexer": "ipython3",
   "version": "3.8.8"
  }
 },
 "nbformat": 4,
 "nbformat_minor": 5
}
